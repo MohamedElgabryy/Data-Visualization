{
 "cells": [
  {
   "cell_type": "markdown",
   "id": "4bde262c",
   "metadata": {
    "papermill": {
     "duration": 0.006662,
     "end_time": "2023-01-31T12:09:19.296966",
     "exception": false,
     "start_time": "2023-01-31T12:09:19.290304",
     "status": "completed"
    },
    "tags": []
   },
   "source": [
    "**This notebook is an exercise in the [Data Visualization](https://www.kaggle.com/learn/data-visualization) course.  You can reference the tutorial at [this link](https://www.kaggle.com/alexisbcook/line-charts).**\n",
    "\n",
    "---\n"
   ]
  },
  {
   "cell_type": "markdown",
   "id": "dc43543c",
   "metadata": {
    "papermill": {
     "duration": 0.005106,
     "end_time": "2023-01-31T12:09:19.307682",
     "exception": false,
     "start_time": "2023-01-31T12:09:19.302576",
     "status": "completed"
    },
    "tags": []
   },
   "source": [
    "In this exercise, you will use your new knowledge to propose a solution to a real-world scenario. To succeed, you will need to import data into Python, answer questions using the data, and generate **line charts** to understand patterns in the data.\n",
    "\n",
    "## Scenario\n",
    "\n",
    "You have recently been hired to manage the museums in the City of Los Angeles. Your first project focuses on the four museums pictured in the images below.\n",
    "\n",
    "![ex1_museums](https://i.imgur.com/pFYL8J1.png)\n",
    "\n",
    "You will leverage data from the Los Angeles [Data Portal](https://data.lacity.org/) that tracks monthly visitors to each museum.  \n",
    "\n",
    "![ex1_xlsx](https://i.imgur.com/mGWYlym.png)\n",
    "\n",
    "## Setup\n",
    "\n",
    "Run the next cell to import and configure the Python libraries that you need to complete the exercise."
   ]
  },
  {
   "cell_type": "code",
   "execution_count": 1,
   "id": "5e89516a",
   "metadata": {
    "execution": {
     "iopub.execute_input": "2023-01-31T12:09:19.320623Z",
     "iopub.status.busy": "2023-01-31T12:09:19.319904Z",
     "iopub.status.idle": "2023-01-31T12:09:20.395251Z",
     "shell.execute_reply": "2023-01-31T12:09:20.394049Z"
    },
    "papermill": {
     "duration": 1.084818,
     "end_time": "2023-01-31T12:09:20.397909",
     "exception": false,
     "start_time": "2023-01-31T12:09:19.313091",
     "status": "completed"
    },
    "tags": []
   },
   "outputs": [
    {
     "name": "stdout",
     "output_type": "stream",
     "text": [
      "Setup Complete\n"
     ]
    }
   ],
   "source": [
    "import pandas as pd\n",
    "pd.plotting.register_matplotlib_converters()\n",
    "import matplotlib.pyplot as plt\n",
    "%matplotlib inline\n",
    "import seaborn as sns\n",
    "print(\"Setup Complete\")"
   ]
  },
  {
   "cell_type": "markdown",
   "id": "f2cf1d1e",
   "metadata": {
    "papermill": {
     "duration": 0.005119,
     "end_time": "2023-01-31T12:09:20.408618",
     "exception": false,
     "start_time": "2023-01-31T12:09:20.403499",
     "status": "completed"
    },
    "tags": []
   },
   "source": [
    "The questions below will give you feedback on your work. Run the following cell to set up the feedback system."
   ]
  },
  {
   "cell_type": "code",
   "execution_count": 2,
   "id": "c04cfd57",
   "metadata": {
    "execution": {
     "iopub.execute_input": "2023-01-31T12:09:20.420925Z",
     "iopub.status.busy": "2023-01-31T12:09:20.420527Z",
     "iopub.status.idle": "2023-01-31T12:09:20.496157Z",
     "shell.execute_reply": "2023-01-31T12:09:20.494648Z"
    },
    "papermill": {
     "duration": 0.084483,
     "end_time": "2023-01-31T12:09:20.498390",
     "exception": false,
     "start_time": "2023-01-31T12:09:20.413907",
     "status": "completed"
    },
    "tags": []
   },
   "outputs": [
    {
     "name": "stdout",
     "output_type": "stream",
     "text": [
      "Setup Complete\n"
     ]
    }
   ],
   "source": [
    "# Set up code checking\n",
    "import os\n",
    "if not os.path.exists(\"../input/museum_visitors.csv\"):\n",
    "    os.symlink(\"../input/data-for-datavis/museum_visitors.csv\", \"../input/museum_visitors.csv\") \n",
    "from learntools.core import binder\n",
    "binder.bind(globals())\n",
    "from learntools.data_viz_to_coder.ex2 import *\n",
    "print(\"Setup Complete\")"
   ]
  },
  {
   "cell_type": "markdown",
   "id": "127cdfee",
   "metadata": {
    "papermill": {
     "duration": 0.005293,
     "end_time": "2023-01-31T12:09:20.509301",
     "exception": false,
     "start_time": "2023-01-31T12:09:20.504008",
     "status": "completed"
    },
    "tags": []
   },
   "source": [
    "## Step 1: Load the data\n",
    "\n",
    "Your first assignment is to read the LA Museum Visitors data file into `museum_data`.  Note that:\n",
    "- The filepath to the dataset is stored as `museum_filepath`.  Please **do not** change the provided value of the filepath.\n",
    "- The name of the column to use as row labels is `\"Date\"`.  (This can be seen in cell A1 when the file is opened in Excel.)\n",
    "\n",
    "To help with this, you may find it useful to revisit some relevant code from the tutorial, which we have pasted below:\n",
    "\n",
    "```python\n",
    "# Path of the file to read\n",
    "spotify_filepath = \"../input/spotify.csv\"\n",
    "\n",
    "# Read the file into a variable spotify_data\n",
    "spotify_data = pd.read_csv(spotify_filepath, index_col=\"Date\", parse_dates=True)\n",
    "```\n",
    "\n",
    "The code you need to write now looks very similar!"
   ]
  },
  {
   "cell_type": "code",
   "execution_count": 3,
   "id": "42371749",
   "metadata": {
    "execution": {
     "iopub.execute_input": "2023-01-31T12:09:20.522173Z",
     "iopub.status.busy": "2023-01-31T12:09:20.521712Z",
     "iopub.status.idle": "2023-01-31T12:09:20.536963Z",
     "shell.execute_reply": "2023-01-31T12:09:20.536009Z"
    },
    "papermill": {
     "duration": 0.024489,
     "end_time": "2023-01-31T12:09:20.539360",
     "exception": false,
     "start_time": "2023-01-31T12:09:20.514871",
     "status": "completed"
    },
    "tags": []
   },
   "outputs": [
    {
     "data": {
      "application/javascript": [
       "parent.postMessage({\"jupyterEvent\": \"custom.exercise_interaction\", \"data\": {\"outcomeType\": 1, \"valueTowardsCompletion\": 0.3333333333333333, \"interactionType\": 1, \"questionType\": 1, \"questionId\": \"1_LoadMuseumData\", \"learnToolsVersion\": \"0.3.4\", \"failureMessage\": \"\", \"exceptionClass\": \"\", \"trace\": \"\"}}, \"*\")"
      ],
      "text/plain": [
       "<IPython.core.display.Javascript object>"
      ]
     },
     "metadata": {},
     "output_type": "display_data"
    },
    {
     "data": {
      "text/markdown": [
       "<span style=\"color:#33cc33\">Correct</span>"
      ],
      "text/plain": [
       "Correct"
      ]
     },
     "metadata": {},
     "output_type": "display_data"
    }
   ],
   "source": [
    "# Path of the file to read\n",
    "museum_filepath = \"../input/museum_visitors.csv\"\n",
    "\n",
    "# Fill in the line below to read the file into a variable museum_data\n",
    "museum_data = pd.read_csv(museum_filepath, index_col=\"Date\", parse_dates=True)\n",
    "\n",
    "# Run the line below with no changes to check that you've loaded the data correctly\n",
    "step_1.check()"
   ]
  },
  {
   "cell_type": "code",
   "execution_count": 4,
   "id": "eaac396e",
   "metadata": {
    "execution": {
     "iopub.execute_input": "2023-01-31T12:09:20.553004Z",
     "iopub.status.busy": "2023-01-31T12:09:20.552608Z",
     "iopub.status.idle": "2023-01-31T12:09:20.556711Z",
     "shell.execute_reply": "2023-01-31T12:09:20.555530Z"
    },
    "papermill": {
     "duration": 0.013666,
     "end_time": "2023-01-31T12:09:20.558937",
     "exception": false,
     "start_time": "2023-01-31T12:09:20.545271",
     "status": "completed"
    },
    "tags": []
   },
   "outputs": [],
   "source": [
    "# Uncomment the line below to receive a hint\n",
    "#step_1.hint()\n",
    "# Uncomment the line below to see the solution\n",
    "#step_1.solution()"
   ]
  },
  {
   "cell_type": "markdown",
   "id": "31249fef",
   "metadata": {
    "papermill": {
     "duration": 0.005682,
     "end_time": "2023-01-31T12:09:20.570510",
     "exception": false,
     "start_time": "2023-01-31T12:09:20.564828",
     "status": "completed"
    },
    "tags": []
   },
   "source": [
    "## Step 2: Review the data\n",
    "\n",
    "Use a Python command to print the last 5 rows of the data."
   ]
  },
  {
   "cell_type": "code",
   "execution_count": 5,
   "id": "c6c24c90",
   "metadata": {
    "execution": {
     "iopub.execute_input": "2023-01-31T12:09:20.584265Z",
     "iopub.status.busy": "2023-01-31T12:09:20.583881Z",
     "iopub.status.idle": "2023-01-31T12:09:20.597879Z",
     "shell.execute_reply": "2023-01-31T12:09:20.596799Z"
    },
    "papermill": {
     "duration": 0.023751,
     "end_time": "2023-01-31T12:09:20.600254",
     "exception": false,
     "start_time": "2023-01-31T12:09:20.576503",
     "status": "completed"
    },
    "tags": []
   },
   "outputs": [
    {
     "data": {
      "text/html": [
       "<div>\n",
       "<style scoped>\n",
       "    .dataframe tbody tr th:only-of-type {\n",
       "        vertical-align: middle;\n",
       "    }\n",
       "\n",
       "    .dataframe tbody tr th {\n",
       "        vertical-align: top;\n",
       "    }\n",
       "\n",
       "    .dataframe thead th {\n",
       "        text-align: right;\n",
       "    }\n",
       "</style>\n",
       "<table border=\"1\" class=\"dataframe\">\n",
       "  <thead>\n",
       "    <tr style=\"text-align: right;\">\n",
       "      <th></th>\n",
       "      <th>Avila Adobe</th>\n",
       "      <th>Firehouse Museum</th>\n",
       "      <th>Chinese American Museum</th>\n",
       "      <th>America Tropical Interpretive Center</th>\n",
       "    </tr>\n",
       "    <tr>\n",
       "      <th>Date</th>\n",
       "      <th></th>\n",
       "      <th></th>\n",
       "      <th></th>\n",
       "      <th></th>\n",
       "    </tr>\n",
       "  </thead>\n",
       "  <tbody>\n",
       "    <tr>\n",
       "      <th>2018-07-01</th>\n",
       "      <td>23136</td>\n",
       "      <td>4191</td>\n",
       "      <td>2620</td>\n",
       "      <td>4718</td>\n",
       "    </tr>\n",
       "    <tr>\n",
       "      <th>2018-08-01</th>\n",
       "      <td>20815</td>\n",
       "      <td>4866</td>\n",
       "      <td>2409</td>\n",
       "      <td>3891</td>\n",
       "    </tr>\n",
       "    <tr>\n",
       "      <th>2018-09-01</th>\n",
       "      <td>21020</td>\n",
       "      <td>4956</td>\n",
       "      <td>2146</td>\n",
       "      <td>3180</td>\n",
       "    </tr>\n",
       "    <tr>\n",
       "      <th>2018-10-01</th>\n",
       "      <td>19280</td>\n",
       "      <td>4622</td>\n",
       "      <td>2364</td>\n",
       "      <td>3775</td>\n",
       "    </tr>\n",
       "    <tr>\n",
       "      <th>2018-11-01</th>\n",
       "      <td>17163</td>\n",
       "      <td>4082</td>\n",
       "      <td>2385</td>\n",
       "      <td>4562</td>\n",
       "    </tr>\n",
       "  </tbody>\n",
       "</table>\n",
       "</div>"
      ],
      "text/plain": [
       "            Avila Adobe  Firehouse Museum  Chinese American Museum  \\\n",
       "Date                                                                 \n",
       "2018-07-01        23136              4191                     2620   \n",
       "2018-08-01        20815              4866                     2409   \n",
       "2018-09-01        21020              4956                     2146   \n",
       "2018-10-01        19280              4622                     2364   \n",
       "2018-11-01        17163              4082                     2385   \n",
       "\n",
       "            America Tropical Interpretive Center  \n",
       "Date                                              \n",
       "2018-07-01                                  4718  \n",
       "2018-08-01                                  3891  \n",
       "2018-09-01                                  3180  \n",
       "2018-10-01                                  3775  \n",
       "2018-11-01                                  4562  "
      ]
     },
     "execution_count": 5,
     "metadata": {},
     "output_type": "execute_result"
    }
   ],
   "source": [
    "# Print the last five rows of the data \n",
    "museum_data.tail() # Your code here"
   ]
  },
  {
   "cell_type": "markdown",
   "id": "fcca56e4",
   "metadata": {
    "papermill": {
     "duration": 0.00596,
     "end_time": "2023-01-31T12:09:20.612390",
     "exception": false,
     "start_time": "2023-01-31T12:09:20.606430",
     "status": "completed"
    },
    "tags": []
   },
   "source": [
    "The last row (for `2018-11-01`) tracks the number of visitors to each museum in November 2018, the next-to-last row (for `2018-10-01`) tracks the number of visitors to each museum in October 2018, _and so on_.\n",
    "\n",
    "Use the last 5 rows of the data to answer the questions below."
   ]
  },
  {
   "cell_type": "code",
   "execution_count": 6,
   "id": "d0113518",
   "metadata": {
    "execution": {
     "iopub.execute_input": "2023-01-31T12:09:20.626377Z",
     "iopub.status.busy": "2023-01-31T12:09:20.626004Z",
     "iopub.status.idle": "2023-01-31T12:09:20.634992Z",
     "shell.execute_reply": "2023-01-31T12:09:20.633939Z"
    },
    "papermill": {
     "duration": 0.018761,
     "end_time": "2023-01-31T12:09:20.637129",
     "exception": false,
     "start_time": "2023-01-31T12:09:20.618368",
     "status": "completed"
    },
    "tags": []
   },
   "outputs": [
    {
     "data": {
      "application/javascript": [
       "parent.postMessage({\"jupyterEvent\": \"custom.exercise_interaction\", \"data\": {\"outcomeType\": 1, \"valueTowardsCompletion\": 0.3333333333333333, \"interactionType\": 1, \"questionType\": 1, \"questionId\": \"2_ReviewData\", \"learnToolsVersion\": \"0.3.4\", \"failureMessage\": \"\", \"exceptionClass\": \"\", \"trace\": \"\"}}, \"*\")"
      ],
      "text/plain": [
       "<IPython.core.display.Javascript object>"
      ]
     },
     "metadata": {},
     "output_type": "display_data"
    },
    {
     "data": {
      "text/markdown": [
       "<span style=\"color:#33cc33\">Correct</span>"
      ],
      "text/plain": [
       "Correct"
      ]
     },
     "metadata": {},
     "output_type": "display_data"
    }
   ],
   "source": [
    "# Fill in the line below: How many visitors did the Chinese American Museum \n",
    "# receive in July 2018?\n",
    "ca_museum_jul18 = 2620 \n",
    "\n",
    "# Fill in the line below: In October 2018, how many more visitors did Avila \n",
    "# Adobe receive than the Firehouse Museum?\n",
    "avila_oct18 = 19280 - 4622\n",
    "\n",
    "# Check your answers\n",
    "step_2.check()"
   ]
  },
  {
   "cell_type": "code",
   "execution_count": 7,
   "id": "22a6adc3",
   "metadata": {
    "execution": {
     "iopub.execute_input": "2023-01-31T12:09:20.652500Z",
     "iopub.status.busy": "2023-01-31T12:09:20.652138Z",
     "iopub.status.idle": "2023-01-31T12:09:20.656452Z",
     "shell.execute_reply": "2023-01-31T12:09:20.655170Z"
    },
    "papermill": {
     "duration": 0.015332,
     "end_time": "2023-01-31T12:09:20.658768",
     "exception": false,
     "start_time": "2023-01-31T12:09:20.643436",
     "status": "completed"
    },
    "tags": []
   },
   "outputs": [],
   "source": [
    "# Lines below will give you a hint or solution code\n",
    "#step_2.hint()\n",
    "#step_2.solution()"
   ]
  },
  {
   "cell_type": "markdown",
   "id": "6bcb492f",
   "metadata": {
    "papermill": {
     "duration": 0.007013,
     "end_time": "2023-01-31T12:09:20.672130",
     "exception": false,
     "start_time": "2023-01-31T12:09:20.665117",
     "status": "completed"
    },
    "tags": []
   },
   "source": [
    "## Step 3: Convince the museum board \n",
    "\n",
    "The Firehouse Museum claims they ran an event in 2014 that brought an incredible number of visitors, and that they should get extra budget to run a similar event again.  The other museums think these types of events aren't that important, and budgets should be split purely based on recent visitors on an average day.  \n",
    "\n",
    "To show the museum board how the event compared to regular traffic at each museum, create a line chart that shows how the number of visitors to each museum evolved over time.  Your figure should have four lines (one for each museum).\n",
    "\n",
    "> **(Optional) Note**: If you have some prior experience with plotting figures in Python, you might be familiar with the `plt.show()` command.  If you decide to use this command, please place it **after** the line of code that checks your answer (in this case, place it after `step_3.check()` below) -- otherwise, the checking code will return an error!"
   ]
  },
  {
   "cell_type": "code",
   "execution_count": 8,
   "id": "e484a83e",
   "metadata": {
    "execution": {
     "iopub.execute_input": "2023-01-31T12:09:20.687080Z",
     "iopub.status.busy": "2023-01-31T12:09:20.686647Z",
     "iopub.status.idle": "2023-01-31T12:09:21.108621Z",
     "shell.execute_reply": "2023-01-31T12:09:21.107479Z"
    },
    "papermill": {
     "duration": 0.432891,
     "end_time": "2023-01-31T12:09:21.111496",
     "exception": false,
     "start_time": "2023-01-31T12:09:20.678605",
     "status": "completed"
    },
    "tags": []
   },
   "outputs": [
    {
     "data": {
      "application/javascript": [
       "parent.postMessage({\"jupyterEvent\": \"custom.exercise_interaction\", \"data\": {\"outcomeType\": 1, \"valueTowardsCompletion\": 0.3333333333333333, \"interactionType\": 1, \"questionType\": 2, \"questionId\": \"3_PlotAll\", \"learnToolsVersion\": \"0.3.4\", \"failureMessage\": \"\", \"exceptionClass\": \"\", \"trace\": \"\"}}, \"*\")"
      ],
      "text/plain": [
       "<IPython.core.display.Javascript object>"
      ]
     },
     "metadata": {},
     "output_type": "display_data"
    },
    {
     "data": {
      "text/markdown": [
       "<span style=\"color:#33cc33\">Correct</span>"
      ],
      "text/plain": [
       "Correct"
      ]
     },
     "metadata": {},
     "output_type": "display_data"
    },
    {
     "data": {
      "image/png": "[encoded data removed]",
      "text/plain": [
       "<Figure size 1008x432 with 1 Axes>"
      ]
     },
     "metadata": {
      "needs_background": "light"
     },
     "output_type": "display_data"
    }
   ],
   "source": [
    "# Line chart showing the number of visitors to each museum over time\n",
    "plt.figure(figsize=(14,6))\n",
    "sns.lineplot(data=museum_data) # Your code here\n",
    "\n",
    "# Check your answer\n",
    "step_3.check()\n",
    "plt.show()"
   ]
  },
  {
   "cell_type": "code",
   "execution_count": 9,
   "id": "0baffaae",
   "metadata": {
    "execution": {
     "iopub.execute_input": "2023-01-31T12:09:21.129079Z",
     "iopub.status.busy": "2023-01-31T12:09:21.128282Z",
     "iopub.status.idle": "2023-01-31T12:09:21.132902Z",
     "shell.execute_reply": "2023-01-31T12:09:21.132138Z"
    },
    "papermill": {
     "duration": 0.016103,
     "end_time": "2023-01-31T12:09:21.135304",
     "exception": false,
     "start_time": "2023-01-31T12:09:21.119201",
     "status": "completed"
    },
    "tags": []
   },
   "outputs": [],
   "source": [
    "# Lines below will give you a hint or solution code\n",
    "#step_3.hint()\n",
    "#step_3.solution_plot()"
   ]
  },
  {
   "cell_type": "markdown",
   "id": "5017164d",
   "metadata": {
    "papermill": {
     "duration": 0.007482,
     "end_time": "2023-01-31T12:09:21.150538",
     "exception": false,
     "start_time": "2023-01-31T12:09:21.143056",
     "status": "completed"
    },
    "tags": []
   },
   "source": [
    "## Step 4: Assess seasonality\n",
    "\n",
    "When meeting with the employees at Avila Adobe, you hear that one major pain point is that the number of museum visitors varies greatly with the seasons, with low seasons (when the employees are perfectly staffed and happy) and also high seasons (when the employees are understaffed and stressed).  You realize that if you can predict these high and low seasons, you can plan ahead to hire some additional seasonal employees to help out with the extra work.\n",
    "\n",
    "#### Part A\n",
    "Create a line chart that shows how the number of visitors to Avila Adobe has evolved over time.  (_If your code returns an error, the first thing that you should check is that you've spelled the name of the column correctly!  You must write the name of the column exactly as it appears in the dataset._)"
   ]
  },
  {
   "cell_type": "code",
   "execution_count": 10,
   "id": "0b5c6e9b",
   "metadata": {
    "execution": {
     "iopub.execute_input": "2023-01-31T12:09:21.167912Z",
     "iopub.status.busy": "2023-01-31T12:09:21.167131Z",
     "iopub.status.idle": "2023-01-31T12:09:21.174326Z",
     "shell.execute_reply": "2023-01-31T12:09:21.173462Z"
    },
    "papermill": {
     "duration": 0.018542,
     "end_time": "2023-01-31T12:09:21.176712",
     "exception": false,
     "start_time": "2023-01-31T12:09:21.158170",
     "status": "completed"
    },
    "tags": []
   },
   "outputs": [
    {
     "data": {
      "text/plain": [
       "['Avila Adobe',\n",
       " 'Firehouse Museum',\n",
       " 'Chinese American Museum',\n",
       " 'America Tropical Interpretive Center']"
      ]
     },
     "execution_count": 10,
     "metadata": {},
     "output_type": "execute_result"
    }
   ],
   "source": [
    "list(museum_data.columns)"
   ]
  },
  {
   "cell_type": "code",
   "execution_count": 11,
   "id": "d946ce24",
   "metadata": {
    "execution": {
     "iopub.execute_input": "2023-01-31T12:09:21.195017Z",
     "iopub.status.busy": "2023-01-31T12:09:21.194260Z",
     "iopub.status.idle": "2023-01-31T12:09:21.468967Z",
     "shell.execute_reply": "2023-01-31T12:09:21.467751Z"
    },
    "papermill": {
     "duration": 0.286825,
     "end_time": "2023-01-31T12:09:21.471597",
     "exception": false,
     "start_time": "2023-01-31T12:09:21.184772",
     "status": "completed"
    },
    "tags": []
   },
   "outputs": [
    {
     "name": "stdout",
     "output_type": "stream",
     "text": [
      "Thank you for creating a line chart!  To see how your code compares to the official solution, please use the code cell below.\n"
     ]
    },
    {
     "data": {
      "application/javascript": [
       "parent.postMessage({\"jupyterEvent\": \"custom.exercise_interaction\", \"data\": {\"outcomeType\": 1, \"valueTowardsCompletion\": 0.3333333333333333, \"interactionType\": 1, \"questionType\": 2, \"questionId\": \"4.1_PlotAvila\", \"learnToolsVersion\": \"0.3.4\", \"failureMessage\": \"\", \"exceptionClass\": \"\", \"trace\": \"\"}}, \"*\")"
      ],
      "text/plain": [
       "<IPython.core.display.Javascript object>"
      ]
     },
     "metadata": {},
     "output_type": "display_data"
    },
    {
     "data": {
      "text/markdown": [
       "<span style=\"color:#33cc33\">Correct</span>"
      ],
      "text/plain": [
       "Correct"
      ]
     },
     "metadata": {},
     "output_type": "display_data"
    },
    {
     "data": {
      "image/png": "[encoded data removed]",
      "text/plain": [
       "<Figure size 1008x432 with 1 Axes>"
      ]
     },
     "metadata": {
      "needs_background": "light"
     },
     "output_type": "display_data"
    }
   ],
   "source": [
    "# Line plot showing the number of visitors to Avila Adobe over time\n",
    "plt.figure(figsize=(14,6))\n",
    "plt.title(\"Avila Adobe\")\n",
    "\n",
    "\n",
    "sns.lineplot(data= museum_data['Avila Adobe']) # Your code here\n",
    "\n",
    "# Check your answer\n",
    "step_4.a.check()"
   ]
  },
  {
   "cell_type": "code",
   "execution_count": 12,
   "id": "7caf1379",
   "metadata": {
    "execution": {
     "iopub.execute_input": "2023-01-31T12:09:21.491625Z",
     "iopub.status.busy": "2023-01-31T12:09:21.491167Z",
     "iopub.status.idle": "2023-01-31T12:09:21.495960Z",
     "shell.execute_reply": "2023-01-31T12:09:21.494851Z"
    },
    "papermill": {
     "duration": 0.017052,
     "end_time": "2023-01-31T12:09:21.498068",
     "exception": false,
     "start_time": "2023-01-31T12:09:21.481016",
     "status": "completed"
    },
    "tags": []
   },
   "outputs": [],
   "source": [
    "# Lines below will give you a hint or solution code\n",
    "#step_4.a.hint()\n",
    "#step_4.a.solution_plot()"
   ]
  },
  {
   "cell_type": "markdown",
   "id": "03ddd3c9",
   "metadata": {
    "papermill": {
     "duration": 0.008768,
     "end_time": "2023-01-31T12:09:21.515815",
     "exception": false,
     "start_time": "2023-01-31T12:09:21.507047",
     "status": "completed"
    },
    "tags": []
   },
   "source": [
    "#### Part B\n",
    "\n",
    "Does Avila Adobe get more visitors:\n",
    "- in September-February (in LA, the fall and winter months), or \n",
    "- in March-August (in LA, the spring and summer)?  \n",
    "\n",
    "Using this information, when should the museum staff additional seasonal employees?"
   ]
  },
  {
   "cell_type": "markdown",
   "id": "747cea81",
   "metadata": {
    "papermill": {
     "duration": 0.008631,
     "end_time": "2023-01-31T12:09:21.533286",
     "exception": false,
     "start_time": "2023-01-31T12:09:21.524655",
     "status": "completed"
    },
    "tags": []
   },
   "source": [
    "in March-August (in LA, the spring and summer)"
   ]
  },
  {
   "cell_type": "code",
   "execution_count": 13,
   "id": "2f62a1b1",
   "metadata": {
    "execution": {
     "iopub.execute_input": "2023-01-31T12:09:21.553077Z",
     "iopub.status.busy": "2023-01-31T12:09:21.552314Z",
     "iopub.status.idle": "2023-01-31T12:09:21.556977Z",
     "shell.execute_reply": "2023-01-31T12:09:21.555873Z"
    },
    "papermill": {
     "duration": 0.016934,
     "end_time": "2023-01-31T12:09:21.559071",
     "exception": false,
     "start_time": "2023-01-31T12:09:21.542137",
     "status": "completed"
    },
    "tags": []
   },
   "outputs": [],
   "source": [
    "#step_4.b.hint()"
   ]
  },
  {
   "cell_type": "code",
   "execution_count": 14,
   "id": "c00dd211",
   "metadata": {
    "execution": {
     "iopub.execute_input": "2023-01-31T12:09:21.579745Z",
     "iopub.status.busy": "2023-01-31T12:09:21.579083Z",
     "iopub.status.idle": "2023-01-31T12:09:21.587981Z",
     "shell.execute_reply": "2023-01-31T12:09:21.586961Z"
    },
    "papermill": {
     "duration": 0.021587,
     "end_time": "2023-01-31T12:09:21.590155",
     "exception": false,
     "start_time": "2023-01-31T12:09:21.568568",
     "status": "completed"
    },
    "tags": []
   },
   "outputs": [
    {
     "data": {
      "application/javascript": [
       "parent.postMessage({\"jupyterEvent\": \"custom.exercise_interaction\", \"data\": {\"interactionType\": 3, \"questionType\": 4, \"questionId\": \"4.2_ThinkAvila\", \"learnToolsVersion\": \"0.3.4\", \"valueTowardsCompletion\": 0.0, \"failureMessage\": \"\", \"exceptionClass\": \"\", \"trace\": \"\", \"outcomeType\": 4}}, \"*\")"
      ],
      "text/plain": [
       "<IPython.core.display.Javascript object>"
      ]
     },
     "metadata": {},
     "output_type": "display_data"
    },
    {
     "data": {
      "text/markdown": [
       "<span style=\"color:#33cc99\">Solution:</span> The line chart generally dips to relatively low values around the early part of each year (in December and January), and reaches its highest values in the middle of the year (especially around May and June).  Thus, Avila Adobe usually gets more visitors in March-August (or the spring and summer months).  With this in mind, Avila Adobe could definitely benefit from hiring more seasonal employees to help with the extra work in March-August (the spring and summer)!"
      ],
      "text/plain": [
       "Solution: The line chart generally dips to relatively low values around the early part of each year (in December and January), and reaches its highest values in the middle of the year (especially around May and June).  Thus, Avila Adobe usually gets more visitors in March-August (or the spring and summer months).  With this in mind, Avila Adobe could definitely benefit from hiring more seasonal employees to help with the extra work in March-August (the spring and summer)!"
      ]
     },
     "metadata": {},
     "output_type": "display_data"
    }
   ],
   "source": [
    "# Check your answer (Run this code cell to receive credit!)\n",
    "step_4.b.solution()"
   ]
  },
  {
   "cell_type": "markdown",
   "id": "bf053572",
   "metadata": {
    "papermill": {
     "duration": 0.008989,
     "end_time": "2023-01-31T12:09:21.608532",
     "exception": false,
     "start_time": "2023-01-31T12:09:21.599543",
     "status": "completed"
    },
    "tags": []
   },
   "source": [
    "# Keep going\n",
    "\n",
    "Move on to learn about **[bar charts and heatmaps](https://www.kaggle.com/alexisbcook/bar-charts-and-heatmaps)** with a new dataset!"
   ]
  },
  {
   "cell_type": "markdown",
   "id": "23f95f57",
   "metadata": {
    "papermill": {
     "duration": 0.008927,
     "end_time": "2023-01-31T12:09:21.626712",
     "exception": false,
     "start_time": "2023-01-31T12:09:21.617785",
     "status": "completed"
    },
    "tags": []
   },
   "source": [
    "---\n",
    "\n",
    "\n",
    "\n",
    "\n",
    "*Have questions or comments? Visit the [course discussion forum](https://www.kaggle.com/learn/data-visualization/discussion) to chat with other learners.*"
   ]
  }
 ],
 "metadata": {
  "kernelspec": {
   "display_name": "Python 3",
   "language": "python",
   "name": "python3"
  },
  "language_info": {
   "codemirror_mode": {
    "name": "ipython",
    "version": 3
   },
   "file_extension": ".py",
   "mimetype": "text/x-python",
   "name": "python",
   "nbconvert_exporter": "python",
   "pygments_lexer": "ipython3",
   "version": "3.7.12"
  },
  "papermill": {
   "default_parameters": {},
   "duration": 11.694046,
   "end_time": "2023-01-31T12:09:22.357746",
   "environment_variables": {},
   "exception": null,
   "input_path": "__notebook__.ipynb",
   "output_path": "__notebook__.ipynb",
   "parameters": {},
   "start_time": "2023-01-31T12:09:10.663700",
   "version": "2.3.4"
  }
 },
 "nbformat": 4,
 "nbformat_minor": 5
}
