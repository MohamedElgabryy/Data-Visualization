{
 "cells": [
  {
   "cell_type": "markdown",
   "id": "0f153b87",
   "metadata": {
    "papermill": {
     "duration": 0.008129,
     "end_time": "2023-01-31T13:54:17.129259",
     "exception": false,
     "start_time": "2023-01-31T13:54:17.121130",
     "status": "completed"
    },
    "tags": []
   },
   "source": [
    "**This notebook is an exercise in the [Data Visualization](https://www.kaggle.com/learn/data-visualization) course.  You can reference the tutorial at [this link](https://www.kaggle.com/alexisbcook/scatter-plots).**\n",
    "\n",
    "---\n"
   ]
  },
  {
   "cell_type": "markdown",
   "id": "a020f072",
   "metadata": {
    "papermill": {
     "duration": 0.007145,
     "end_time": "2023-01-31T13:54:17.143743",
     "exception": false,
     "start_time": "2023-01-31T13:54:17.136598",
     "status": "completed"
    },
    "tags": []
   },
   "source": [
    "In this exercise, you will use your new knowledge to propose a solution to a real-world scenario.  To succeed, you will need to import data into Python, answer questions using the data, and generate **scatter plots** to understand patterns in the data.\n",
    "\n",
    "## Scenario\n",
    "\n",
    "You work for a major candy producer, and your goal is to write a report that your company can use to guide the design of its next product.  Soon after starting your research, you stumble across this [very interesting dataset](https://fivethirtyeight.com/features/the-ultimate-halloween-candy-power-ranking/) containing results from a fun survey to crowdsource favorite candies.\n",
    "\n",
    "## Setup\n",
    "\n",
    "Run the next cell to import and configure the Python libraries that you need to complete the exercise."
   ]
  },
  {
   "cell_type": "code",
   "execution_count": 1,
   "id": "d52e1dc7",
   "metadata": {
    "execution": {
     "iopub.execute_input": "2023-01-31T13:54:17.160489Z",
     "iopub.status.busy": "2023-01-31T13:54:17.159508Z",
     "iopub.status.idle": "2023-01-31T13:54:18.061738Z",
     "shell.execute_reply": "2023-01-31T13:54:18.060541Z"
    },
    "papermill": {
     "duration": 0.913421,
     "end_time": "2023-01-31T13:54:18.064407",
     "exception": false,
     "start_time": "2023-01-31T13:54:17.150986",
     "status": "completed"
    },
    "tags": []
   },
   "outputs": [
    {
     "name": "stdout",
     "output_type": "stream",
     "text": [
      "Setup Complete\n"
     ]
    }
   ],
   "source": [
    "import pandas as pd\n",
    "pd.plotting.register_matplotlib_converters()\n",
    "import matplotlib.pyplot as plt\n",
    "%matplotlib inline\n",
    "import seaborn as sns\n",
    "print(\"Setup Complete\")"
   ]
  },
  {
   "cell_type": "markdown",
   "id": "174919c4",
   "metadata": {
    "papermill": {
     "duration": 0.0072,
     "end_time": "2023-01-31T13:54:18.079387",
     "exception": false,
     "start_time": "2023-01-31T13:54:18.072187",
     "status": "completed"
    },
    "tags": []
   },
   "source": [
    "The questions below will give you feedback on your work. Run the following cell to set up our feedback system."
   ]
  },
  {
   "cell_type": "code",
   "execution_count": 2,
   "id": "4c96418e",
   "metadata": {
    "execution": {
     "iopub.execute_input": "2023-01-31T13:54:18.095467Z",
     "iopub.status.busy": "2023-01-31T13:54:18.095107Z",
     "iopub.status.idle": "2023-01-31T13:54:18.153074Z",
     "shell.execute_reply": "2023-01-31T13:54:18.152169Z"
    },
    "papermill": {
     "duration": 0.068223,
     "end_time": "2023-01-31T13:54:18.154955",
     "exception": false,
     "start_time": "2023-01-31T13:54:18.086732",
     "status": "completed"
    },
    "tags": []
   },
   "outputs": [
    {
     "name": "stdout",
     "output_type": "stream",
     "text": [
      "Setup Complete\n"
     ]
    }
   ],
   "source": [
    "# Set up code checking\n",
    "import os\n",
    "if not os.path.exists(\"../input/candy.csv\"):\n",
    "    os.symlink(\"../input/data-for-datavis/candy.csv\", \"../input/candy.csv\") \n",
    "from learntools.core import binder\n",
    "binder.bind(globals())\n",
    "from learntools.data_viz_to_coder.ex4 import *\n",
    "print(\"Setup Complete\")"
   ]
  },
  {
   "cell_type": "markdown",
   "id": "8fe6019f",
   "metadata": {
    "papermill": {
     "duration": 0.007266,
     "end_time": "2023-01-31T13:54:18.170000",
     "exception": false,
     "start_time": "2023-01-31T13:54:18.162734",
     "status": "completed"
    },
    "tags": []
   },
   "source": [
    "## Step 1: Load the Data\n",
    "\n",
    "Read the candy data file into `candy_data`.  Use the `\"id\"` column to label the rows."
   ]
  },
  {
   "cell_type": "code",
   "execution_count": 3,
   "id": "c57b689c",
   "metadata": {
    "execution": {
     "iopub.execute_input": "2023-01-31T13:54:18.187565Z",
     "iopub.status.busy": "2023-01-31T13:54:18.186968Z",
     "iopub.status.idle": "2023-01-31T13:54:18.201315Z",
     "shell.execute_reply": "2023-01-31T13:54:18.200189Z"
    },
    "papermill": {
     "duration": 0.025368,
     "end_time": "2023-01-31T13:54:18.203088",
     "exception": false,
     "start_time": "2023-01-31T13:54:18.177720",
     "status": "completed"
    },
    "tags": []
   },
   "outputs": [
    {
     "data": {
      "application/javascript": [
       "parent.postMessage({\"jupyterEvent\": \"custom.exercise_interaction\", \"data\": {\"outcomeType\": 1, \"valueTowardsCompletion\": 0.3333333333333333, \"interactionType\": 1, \"questionType\": 1, \"questionId\": \"1_LoadData\", \"learnToolsVersion\": \"0.3.4\", \"failureMessage\": \"\", \"exceptionClass\": \"\", \"trace\": \"\"}}, \"*\")"
      ],
      "text/plain": [
       "<IPython.core.display.Javascript object>"
      ]
     },
     "metadata": {},
     "output_type": "display_data"
    },
    {
     "data": {
      "text/markdown": [
       "<span style=\"color:#33cc33\">Correct</span>"
      ],
      "text/plain": [
       "Correct"
      ]
     },
     "metadata": {},
     "output_type": "display_data"
    }
   ],
   "source": [
    "# Path of the file to read\n",
    "candy_filepath = \"../input/candy.csv\"\n",
    "\n",
    "# Fill in the line below to read the file into a variable candy_data\n",
    "candy_data = pd.read_csv(candy_filepath, index_col=\"id\")\n",
    "\n",
    "# Run the line below with no changes to check that you've loaded the data correctly\n",
    "step_1.check()"
   ]
  },
  {
   "cell_type": "code",
   "execution_count": 4,
   "id": "3808bae5",
   "metadata": {
    "execution": {
     "iopub.execute_input": "2023-01-31T13:54:18.221877Z",
     "iopub.status.busy": "2023-01-31T13:54:18.221427Z",
     "iopub.status.idle": "2023-01-31T13:54:18.225374Z",
     "shell.execute_reply": "2023-01-31T13:54:18.224421Z"
    },
    "papermill": {
     "duration": 0.016261,
     "end_time": "2023-01-31T13:54:18.227782",
     "exception": false,
     "start_time": "2023-01-31T13:54:18.211521",
     "status": "completed"
    },
    "tags": []
   },
   "outputs": [],
   "source": [
    "# Lines below will give you a hint or solution code\n",
    "#step_1.hint()\n",
    "#step_1.solution()"
   ]
  },
  {
   "cell_type": "markdown",
   "id": "a7dac252",
   "metadata": {
    "papermill": {
     "duration": 0.00787,
     "end_time": "2023-01-31T13:54:18.244499",
     "exception": false,
     "start_time": "2023-01-31T13:54:18.236629",
     "status": "completed"
    },
    "tags": []
   },
   "source": [
    "## Step 2: Review the data\n",
    "\n",
    "Use a Python command to print the first five rows of the data."
   ]
  },
  {
   "cell_type": "code",
   "execution_count": 5,
   "id": "d1836bf1",
   "metadata": {
    "execution": {
     "iopub.execute_input": "2023-01-31T13:54:18.261468Z",
     "iopub.status.busy": "2023-01-31T13:54:18.261075Z",
     "iopub.status.idle": "2023-01-31T13:54:18.281103Z",
     "shell.execute_reply": "2023-01-31T13:54:18.280320Z"
    },
    "papermill": {
     "duration": 0.030469,
     "end_time": "2023-01-31T13:54:18.282762",
     "exception": false,
     "start_time": "2023-01-31T13:54:18.252293",
     "status": "completed"
    },
    "tags": []
   },
   "outputs": [
    {
     "data": {
      "text/html": [
       "<div>\n",
       "<style scoped>\n",
       "    .dataframe tbody tr th:only-of-type {\n",
       "        vertical-align: middle;\n",
       "    }\n",
       "\n",
       "    .dataframe tbody tr th {\n",
       "        vertical-align: top;\n",
       "    }\n",
       "\n",
       "    .dataframe thead th {\n",
       "        text-align: right;\n",
       "    }\n",
       "</style>\n",
       "<table border=\"1\" class=\"dataframe\">\n",
       "  <thead>\n",
       "    <tr style=\"text-align: right;\">\n",
       "      <th></th>\n",
       "      <th>competitorname</th>\n",
       "      <th>chocolate</th>\n",
       "      <th>fruity</th>\n",
       "      <th>caramel</th>\n",
       "      <th>peanutyalmondy</th>\n",
       "      <th>nougat</th>\n",
       "      <th>crispedricewafer</th>\n",
       "      <th>hard</th>\n",
       "      <th>bar</th>\n",
       "      <th>pluribus</th>\n",
       "      <th>sugarpercent</th>\n",
       "      <th>pricepercent</th>\n",
       "      <th>winpercent</th>\n",
       "    </tr>\n",
       "    <tr>\n",
       "      <th>id</th>\n",
       "      <th></th>\n",
       "      <th></th>\n",
       "      <th></th>\n",
       "      <th></th>\n",
       "      <th></th>\n",
       "      <th></th>\n",
       "      <th></th>\n",
       "      <th></th>\n",
       "      <th></th>\n",
       "      <th></th>\n",
       "      <th></th>\n",
       "      <th></th>\n",
       "      <th></th>\n",
       "    </tr>\n",
       "  </thead>\n",
       "  <tbody>\n",
       "    <tr>\n",
       "      <th>0</th>\n",
       "      <td>100 Grand</td>\n",
       "      <td>Yes</td>\n",
       "      <td>No</td>\n",
       "      <td>Yes</td>\n",
       "      <td>No</td>\n",
       "      <td>No</td>\n",
       "      <td>Yes</td>\n",
       "      <td>No</td>\n",
       "      <td>Yes</td>\n",
       "      <td>No</td>\n",
       "      <td>0.732</td>\n",
       "      <td>0.860</td>\n",
       "      <td>66.971725</td>\n",
       "    </tr>\n",
       "    <tr>\n",
       "      <th>1</th>\n",
       "      <td>3 Musketeers</td>\n",
       "      <td>Yes</td>\n",
       "      <td>No</td>\n",
       "      <td>No</td>\n",
       "      <td>No</td>\n",
       "      <td>Yes</td>\n",
       "      <td>No</td>\n",
       "      <td>No</td>\n",
       "      <td>Yes</td>\n",
       "      <td>No</td>\n",
       "      <td>0.604</td>\n",
       "      <td>0.511</td>\n",
       "      <td>67.602936</td>\n",
       "    </tr>\n",
       "    <tr>\n",
       "      <th>2</th>\n",
       "      <td>Air Heads</td>\n",
       "      <td>No</td>\n",
       "      <td>Yes</td>\n",
       "      <td>No</td>\n",
       "      <td>No</td>\n",
       "      <td>No</td>\n",
       "      <td>No</td>\n",
       "      <td>No</td>\n",
       "      <td>No</td>\n",
       "      <td>No</td>\n",
       "      <td>0.906</td>\n",
       "      <td>0.511</td>\n",
       "      <td>52.341465</td>\n",
       "    </tr>\n",
       "    <tr>\n",
       "      <th>3</th>\n",
       "      <td>Almond Joy</td>\n",
       "      <td>Yes</td>\n",
       "      <td>No</td>\n",
       "      <td>No</td>\n",
       "      <td>Yes</td>\n",
       "      <td>No</td>\n",
       "      <td>No</td>\n",
       "      <td>No</td>\n",
       "      <td>Yes</td>\n",
       "      <td>No</td>\n",
       "      <td>0.465</td>\n",
       "      <td>0.767</td>\n",
       "      <td>50.347546</td>\n",
       "    </tr>\n",
       "    <tr>\n",
       "      <th>4</th>\n",
       "      <td>Baby Ruth</td>\n",
       "      <td>Yes</td>\n",
       "      <td>No</td>\n",
       "      <td>Yes</td>\n",
       "      <td>Yes</td>\n",
       "      <td>Yes</td>\n",
       "      <td>No</td>\n",
       "      <td>No</td>\n",
       "      <td>Yes</td>\n",
       "      <td>No</td>\n",
       "      <td>0.604</td>\n",
       "      <td>0.767</td>\n",
       "      <td>56.914547</td>\n",
       "    </tr>\n",
       "  </tbody>\n",
       "</table>\n",
       "</div>"
      ],
      "text/plain": [
       "   competitorname chocolate fruity caramel peanutyalmondy nougat  \\\n",
       "id                                                                 \n",
       "0       100 Grand       Yes     No     Yes             No     No   \n",
       "1    3 Musketeers       Yes     No      No             No    Yes   \n",
       "2       Air Heads        No    Yes      No             No     No   \n",
       "3      Almond Joy       Yes     No      No            Yes     No   \n",
       "4       Baby Ruth       Yes     No     Yes            Yes    Yes   \n",
       "\n",
       "   crispedricewafer hard  bar pluribus  sugarpercent  pricepercent  winpercent  \n",
       "id                                                                              \n",
       "0               Yes   No  Yes       No         0.732         0.860   66.971725  \n",
       "1                No   No  Yes       No         0.604         0.511   67.602936  \n",
       "2                No   No   No       No         0.906         0.511   52.341465  \n",
       "3                No   No  Yes       No         0.465         0.767   50.347546  \n",
       "4                No   No  Yes       No         0.604         0.767   56.914547  "
      ]
     },
     "execution_count": 5,
     "metadata": {},
     "output_type": "execute_result"
    }
   ],
   "source": [
    "# Print the first five rows of the data\n",
    "candy_data.head() # Your code here"
   ]
  },
  {
   "cell_type": "markdown",
   "id": "f5a0c8ad",
   "metadata": {
    "papermill": {
     "duration": 0.007773,
     "end_time": "2023-01-31T13:54:18.298927",
     "exception": false,
     "start_time": "2023-01-31T13:54:18.291154",
     "status": "completed"
    },
    "tags": []
   },
   "source": [
    "The dataset contains 83 rows, where each corresponds to a different candy bar.  There are 13 columns:\n",
    "- `'competitorname'` contains the name of the candy bar. \n",
    "- the next **9** columns (from `'chocolate'` to `'pluribus'`) describe the candy.  For instance, rows with chocolate candies have `\"Yes\"` in the `'chocolate'` column (and candies without chocolate have `\"No\"` in the same column).\n",
    "- `'sugarpercent'` provides some indication of the amount of sugar, where higher values signify higher sugar content.\n",
    "- `'pricepercent'` shows the price per unit, relative to the other candies in the dataset.\n",
    "- `'winpercent'` is calculated from the survey results; higher values indicate that the candy was more popular with survey respondents.\n",
    "\n",
    "Use the first five rows of the data to answer the questions below."
   ]
  },
  {
   "cell_type": "code",
   "execution_count": 6,
   "id": "bb5b5a3f",
   "metadata": {
    "execution": {
     "iopub.execute_input": "2023-01-31T13:54:18.316734Z",
     "iopub.status.busy": "2023-01-31T13:54:18.316334Z",
     "iopub.status.idle": "2023-01-31T13:54:18.324105Z",
     "shell.execute_reply": "2023-01-31T13:54:18.323240Z"
    },
    "papermill": {
     "duration": 0.018621,
     "end_time": "2023-01-31T13:54:18.325644",
     "exception": false,
     "start_time": "2023-01-31T13:54:18.307023",
     "status": "completed"
    },
    "tags": []
   },
   "outputs": [
    {
     "data": {
      "application/javascript": [
       "parent.postMessage({\"jupyterEvent\": \"custom.exercise_interaction\", \"data\": {\"outcomeType\": 1, \"valueTowardsCompletion\": 0.3333333333333333, \"interactionType\": 1, \"questionType\": 1, \"questionId\": \"2_ReviewData\", \"learnToolsVersion\": \"0.3.4\", \"failureMessage\": \"\", \"exceptionClass\": \"\", \"trace\": \"\"}}, \"*\")"
      ],
      "text/plain": [
       "<IPython.core.display.Javascript object>"
      ]
     },
     "metadata": {},
     "output_type": "display_data"
    },
    {
     "data": {
      "text/markdown": [
       "<span style=\"color:#33cc33\">Correct</span>"
      ],
      "text/plain": [
       "Correct"
      ]
     },
     "metadata": {},
     "output_type": "display_data"
    }
   ],
   "source": [
    "# Fill in the line below: Which candy was more popular with survey respondents:\n",
    "# '3 Musketeers' or 'Almond Joy'?  (Please enclose your answer in single quotes.)\n",
    "more_popular = \"3 Musketeers\"\n",
    "\n",
    "# Fill in the line below: Which candy has higher sugar content: 'Air Heads'\n",
    "# or 'Baby Ruth'? (Please enclose your answer in single quotes.)\n",
    "more_sugar = \"Air Heads\"\n",
    "\n",
    "# Check your answers\n",
    "step_2.check()"
   ]
  },
  {
   "cell_type": "code",
   "execution_count": 7,
   "id": "626592de",
   "metadata": {
    "execution": {
     "iopub.execute_input": "2023-01-31T13:54:18.343720Z",
     "iopub.status.busy": "2023-01-31T13:54:18.343013Z",
     "iopub.status.idle": "2023-01-31T13:54:18.347637Z",
     "shell.execute_reply": "2023-01-31T13:54:18.346196Z"
    },
    "papermill": {
     "duration": 0.015761,
     "end_time": "2023-01-31T13:54:18.349378",
     "exception": false,
     "start_time": "2023-01-31T13:54:18.333617",
     "status": "completed"
    },
    "tags": []
   },
   "outputs": [],
   "source": [
    "# Lines below will give you a hint or solution code\n",
    "#step_2.hint()\n",
    "#step_2.solution()"
   ]
  },
  {
   "cell_type": "markdown",
   "id": "ce05601f",
   "metadata": {
    "papermill": {
     "duration": 0.007874,
     "end_time": "2023-01-31T13:54:18.365477",
     "exception": false,
     "start_time": "2023-01-31T13:54:18.357603",
     "status": "completed"
    },
    "tags": []
   },
   "source": [
    "## Step 3: The role of sugar\n",
    "\n",
    "Do people tend to prefer candies with higher sugar content?  \n",
    "\n",
    "#### Part A\n",
    "\n",
    "Create a scatter plot that shows the relationship between `'sugarpercent'` (on the horizontal x-axis) and `'winpercent'` (on the vertical y-axis).  _Don't add a regression line just yet -- you'll do that in the next step!_"
   ]
  },
  {
   "cell_type": "code",
   "execution_count": 8,
   "id": "df2f52e2",
   "metadata": {
    "execution": {
     "iopub.execute_input": "2023-01-31T13:54:18.384604Z",
     "iopub.status.busy": "2023-01-31T13:54:18.384018Z",
     "iopub.status.idle": "2023-01-31T13:54:18.578949Z",
     "shell.execute_reply": "2023-01-31T13:54:18.577886Z"
    },
    "papermill": {
     "duration": 0.207135,
     "end_time": "2023-01-31T13:54:18.581549",
     "exception": false,
     "start_time": "2023-01-31T13:54:18.374414",
     "status": "completed"
    },
    "tags": []
   },
   "outputs": [
    {
     "data": {
      "application/javascript": [
       "parent.postMessage({\"jupyterEvent\": \"custom.exercise_interaction\", \"data\": {\"outcomeType\": 1, \"valueTowardsCompletion\": 0.3333333333333333, \"interactionType\": 1, \"questionType\": 2, \"questionId\": \"3.1_PlotBlueScatter\", \"learnToolsVersion\": \"0.3.4\", \"failureMessage\": \"\", \"exceptionClass\": \"\", \"trace\": \"\"}}, \"*\")"
      ],
      "text/plain": [
       "<IPython.core.display.Javascript object>"
      ]
     },
     "metadata": {},
     "output_type": "display_data"
    },
    {
     "data": {
      "text/markdown": [
       "<span style=\"color:#33cc33\">Correct</span>"
      ],
      "text/plain": [
       "Correct"
      ]
     },
     "metadata": {},
     "output_type": "display_data"
    },
    {
     "data": {
      "image/png": "[encoded data removed]",
      "text/plain": [
       "<Figure size 432x288 with 1 Axes>"
      ]
     },
     "metadata": {
      "needs_background": "light"
     },
     "output_type": "display_data"
    }
   ],
   "source": [
    "# Scatter plot showing the relationship between 'sugarpercent' and 'winpercent'\n",
    "sns.scatterplot(x=candy_data['sugarpercent'], y=candy_data['winpercent']) # Your code here\n",
    "\n",
    "# Check your answer\n",
    "step_3.a.check()"
   ]
  },
  {
   "cell_type": "code",
   "execution_count": 9,
   "id": "6dc0a4cc",
   "metadata": {
    "execution": {
     "iopub.execute_input": "2023-01-31T13:54:18.601986Z",
     "iopub.status.busy": "2023-01-31T13:54:18.601584Z",
     "iopub.status.idle": "2023-01-31T13:54:18.605493Z",
     "shell.execute_reply": "2023-01-31T13:54:18.604640Z"
    },
    "papermill": {
     "duration": 0.016622,
     "end_time": "2023-01-31T13:54:18.607504",
     "exception": false,
     "start_time": "2023-01-31T13:54:18.590882",
     "status": "completed"
    },
    "tags": []
   },
   "outputs": [],
   "source": [
    "# Lines below will give you a hint or solution code\n",
    "#step_3.a.hint()\n",
    "#step_3.a.solution_plot()"
   ]
  },
  {
   "cell_type": "markdown",
   "id": "da6e0ac9",
   "metadata": {
    "papermill": {
     "duration": 0.00953,
     "end_time": "2023-01-31T13:54:18.626475",
     "exception": false,
     "start_time": "2023-01-31T13:54:18.616945",
     "status": "completed"
    },
    "tags": []
   },
   "source": [
    "#### Part B\n",
    "\n",
    "Does the scatter plot show a **strong** correlation between the two variables?  If so, are candies with more sugar relatively more or less popular with the survey respondents?"
   ]
  },
  {
   "cell_type": "markdown",
   "id": "66dc6943",
   "metadata": {
    "papermill": {
     "duration": 0.008684,
     "end_time": "2023-01-31T13:54:18.644544",
     "exception": false,
     "start_time": "2023-01-31T13:54:18.635860",
     "status": "completed"
    },
    "tags": []
   },
   "source": [
    "\"No, it don't show strong correlation\", \"No\""
   ]
  },
  {
   "cell_type": "code",
   "execution_count": 10,
   "id": "f027b0a0",
   "metadata": {
    "execution": {
     "iopub.execute_input": "2023-01-31T13:54:18.664352Z",
     "iopub.status.busy": "2023-01-31T13:54:18.663975Z",
     "iopub.status.idle": "2023-01-31T13:54:18.669240Z",
     "shell.execute_reply": "2023-01-31T13:54:18.668031Z"
    },
    "papermill": {
     "duration": 0.01737,
     "end_time": "2023-01-31T13:54:18.671180",
     "exception": false,
     "start_time": "2023-01-31T13:54:18.653810",
     "status": "completed"
    },
    "tags": []
   },
   "outputs": [],
   "source": [
    "#step_3.b.hint()"
   ]
  },
  {
   "cell_type": "code",
   "execution_count": 11,
   "id": "acf80d70",
   "metadata": {
    "execution": {
     "iopub.execute_input": "2023-01-31T13:54:18.690371Z",
     "iopub.status.busy": "2023-01-31T13:54:18.690004Z",
     "iopub.status.idle": "2023-01-31T13:54:18.698456Z",
     "shell.execute_reply": "2023-01-31T13:54:18.697264Z"
    },
    "papermill": {
     "duration": 0.019987,
     "end_time": "2023-01-31T13:54:18.700235",
     "exception": false,
     "start_time": "2023-01-31T13:54:18.680248",
     "status": "completed"
    },
    "tags": []
   },
   "outputs": [
    {
     "data": {
      "application/javascript": [
       "parent.postMessage({\"jupyterEvent\": \"custom.exercise_interaction\", \"data\": {\"interactionType\": 3, \"questionType\": 4, \"questionId\": \"3.2_ThinkBlueScatter\", \"learnToolsVersion\": \"0.3.4\", \"valueTowardsCompletion\": 0.0, \"failureMessage\": \"\", \"exceptionClass\": \"\", \"trace\": \"\", \"outcomeType\": 4}}, \"*\")"
      ],
      "text/plain": [
       "<IPython.core.display.Javascript object>"
      ]
     },
     "metadata": {},
     "output_type": "display_data"
    },
    {
     "data": {
      "text/markdown": [
       "<span style=\"color:#33cc99\">Solution:</span> The scatter plot does not show a strong correlation between the two variables. Since there is no clear relationship between the two variables, this tells us that sugar content does not play a strong role in candy popularity."
      ],
      "text/plain": [
       "Solution: The scatter plot does not show a strong correlation between the two variables. Since there is no clear relationship between the two variables, this tells us that sugar content does not play a strong role in candy popularity."
      ]
     },
     "metadata": {},
     "output_type": "display_data"
    }
   ],
   "source": [
    "# Check your answer (Run this code cell to receive credit!)\n",
    "step_3.b.solution()"
   ]
  },
  {
   "cell_type": "markdown",
   "id": "15501652",
   "metadata": {
    "papermill": {
     "duration": 0.008298,
     "end_time": "2023-01-31T13:54:18.717604",
     "exception": false,
     "start_time": "2023-01-31T13:54:18.709306",
     "status": "completed"
    },
    "tags": []
   },
   "source": [
    "## Step 4: Take a closer look\n",
    "\n",
    "#### Part A\n",
    "\n",
    "Create the same scatter plot you created in **Step 3**, but now with a regression line!"
   ]
  },
  {
   "cell_type": "code",
   "execution_count": 12,
   "id": "3bb5a940",
   "metadata": {
    "execution": {
     "iopub.execute_input": "2023-01-31T13:54:18.738496Z",
     "iopub.status.busy": "2023-01-31T13:54:18.738097Z",
     "iopub.status.idle": "2023-01-31T13:54:18.973920Z",
     "shell.execute_reply": "2023-01-31T13:54:18.972682Z"
    },
    "papermill": {
     "duration": 0.250298,
     "end_time": "2023-01-31T13:54:18.977758",
     "exception": false,
     "start_time": "2023-01-31T13:54:18.727460",
     "status": "completed"
    },
    "tags": []
   },
   "outputs": [
    {
     "data": {
      "application/javascript": [
       "parent.postMessage({\"jupyterEvent\": \"custom.exercise_interaction\", \"data\": {\"outcomeType\": 1, \"valueTowardsCompletion\": 0.3333333333333333, \"interactionType\": 1, \"questionType\": 2, \"questionId\": \"4.1_PlotBlueReg\", \"learnToolsVersion\": \"0.3.4\", \"failureMessage\": \"\", \"exceptionClass\": \"\", \"trace\": \"\"}}, \"*\")"
      ],
      "text/plain": [
       "<IPython.core.display.Javascript object>"
      ]
     },
     "metadata": {},
     "output_type": "display_data"
    },
    {
     "data": {
      "text/markdown": [
       "<span style=\"color:#33cc33\">Correct</span>"
      ],
      "text/plain": [
       "Correct"
      ]
     },
     "metadata": {},
     "output_type": "display_data"
    },
    {
     "data": {
      "image/png": "[encoded data removed]",
      "text/plain": [
       "<Figure size 432x288 with 1 Axes>"
      ]
     },
     "metadata": {
      "needs_background": "light"
     },
     "output_type": "display_data"
    }
   ],
   "source": [
    "# Scatter plot w/ regression line showing the relationship between 'sugarpercent' and 'winpercent'\n",
    "sns.regplot(x=candy_data['sugarpercent'], y=candy_data['winpercent']) # Your code here\n",
    "\n",
    "# Check your answer\n",
    "step_4.a.check()"
   ]
  },
  {
   "cell_type": "code",
   "execution_count": 13,
   "id": "c9c26265",
   "metadata": {
    "execution": {
     "iopub.execute_input": "2023-01-31T13:54:18.999544Z",
     "iopub.status.busy": "2023-01-31T13:54:18.999183Z",
     "iopub.status.idle": "2023-01-31T13:54:19.002351Z",
     "shell.execute_reply": "2023-01-31T13:54:19.001685Z"
    },
    "papermill": {
     "duration": 0.015781,
     "end_time": "2023-01-31T13:54:19.004049",
     "exception": false,
     "start_time": "2023-01-31T13:54:18.988268",
     "status": "completed"
    },
    "tags": []
   },
   "outputs": [],
   "source": [
    "# Lines below will give you a hint or solution code\n",
    "#step_4.a.hint()\n",
    "#step_4.a.solution_plot()"
   ]
  },
  {
   "cell_type": "markdown",
   "id": "20dd29c3",
   "metadata": {
    "papermill": {
     "duration": 0.009831,
     "end_time": "2023-01-31T13:54:19.024476",
     "exception": false,
     "start_time": "2023-01-31T13:54:19.014645",
     "status": "completed"
    },
    "tags": []
   },
   "source": [
    "#### Part B\n",
    "\n",
    "According to the plot above, is there a **slight** correlation between `'winpercent'` and `'sugarpercent'`?  What does this tell you about the candy that people tend to prefer?"
   ]
  },
  {
   "cell_type": "markdown",
   "id": "18208b16",
   "metadata": {
    "papermill": {
     "duration": 0.009522,
     "end_time": "2023-01-31T13:54:19.043886",
     "exception": false,
     "start_time": "2023-01-31T13:54:19.034364",
     "status": "completed"
    },
    "tags": []
   },
   "source": [
    "\"Yes, bec there is slightly positive slope\""
   ]
  },
  {
   "cell_type": "code",
   "execution_count": 14,
   "id": "4ac267a1",
   "metadata": {
    "execution": {
     "iopub.execute_input": "2023-01-31T13:54:19.065419Z",
     "iopub.status.busy": "2023-01-31T13:54:19.065054Z",
     "iopub.status.idle": "2023-01-31T13:54:19.070146Z",
     "shell.execute_reply": "2023-01-31T13:54:19.069553Z"
    },
    "papermill": {
     "duration": 0.018173,
     "end_time": "2023-01-31T13:54:19.071932",
     "exception": false,
     "start_time": "2023-01-31T13:54:19.053759",
     "status": "completed"
    },
    "tags": []
   },
   "outputs": [],
   "source": [
    "#step_4.b.hint()"
   ]
  },
  {
   "cell_type": "code",
   "execution_count": 15,
   "id": "c30460f9",
   "metadata": {
    "execution": {
     "iopub.execute_input": "2023-01-31T13:54:19.093350Z",
     "iopub.status.busy": "2023-01-31T13:54:19.093003Z",
     "iopub.status.idle": "2023-01-31T13:54:19.100188Z",
     "shell.execute_reply": "2023-01-31T13:54:19.099355Z"
    },
    "papermill": {
     "duration": 0.019998,
     "end_time": "2023-01-31T13:54:19.102367",
     "exception": false,
     "start_time": "2023-01-31T13:54:19.082369",
     "status": "completed"
    },
    "tags": []
   },
   "outputs": [
    {
     "data": {
      "application/javascript": [
       "parent.postMessage({\"jupyterEvent\": \"custom.exercise_interaction\", \"data\": {\"interactionType\": 3, \"questionType\": 4, \"questionId\": \"4.2_ThinkBlueReg\", \"learnToolsVersion\": \"0.3.4\", \"valueTowardsCompletion\": 0.0, \"failureMessage\": \"\", \"exceptionClass\": \"\", \"trace\": \"\", \"outcomeType\": 4}}, \"*\")"
      ],
      "text/plain": [
       "<IPython.core.display.Javascript object>"
      ]
     },
     "metadata": {},
     "output_type": "display_data"
    },
    {
     "data": {
      "text/markdown": [
       "<span style=\"color:#33cc99\">Solution:</span> Since the regression line has a slightly positive slope, this tells us that there is a slightly positive correlation between `'winpercent'` and `'sugarpercent'`. Thus, people have a slight preference for candies containing relatively more sugar."
      ],
      "text/plain": [
       "Solution: Since the regression line has a slightly positive slope, this tells us that there is a slightly positive correlation between `'winpercent'` and `'sugarpercent'`. Thus, people have a slight preference for candies containing relatively more sugar."
      ]
     },
     "metadata": {},
     "output_type": "display_data"
    }
   ],
   "source": [
    "# Check your answer (Run this code cell to receive credit!)\n",
    "step_4.b.solution()"
   ]
  },
  {
   "cell_type": "markdown",
   "id": "77344423",
   "metadata": {
    "papermill": {
     "duration": 0.009472,
     "end_time": "2023-01-31T13:54:19.121879",
     "exception": false,
     "start_time": "2023-01-31T13:54:19.112407",
     "status": "completed"
    },
    "tags": []
   },
   "source": [
    "## Step 5: Chocolate!\n",
    "\n",
    "In the code cell below, create a scatter plot to show the relationship between `'pricepercent'` (on the horizontal x-axis) and `'winpercent'` (on the vertical y-axis). Use the `'chocolate'` column to color-code the points.  _Don't add any regression lines just yet -- you'll do that in the next step!_"
   ]
  },
  {
   "cell_type": "code",
   "execution_count": 16,
   "id": "0a95c5ee",
   "metadata": {
    "execution": {
     "iopub.execute_input": "2023-01-31T13:54:19.142549Z",
     "iopub.status.busy": "2023-01-31T13:54:19.142187Z",
     "iopub.status.idle": "2023-01-31T13:54:19.325178Z",
     "shell.execute_reply": "2023-01-31T13:54:19.324161Z"
    },
    "papermill": {
     "duration": 0.195935,
     "end_time": "2023-01-31T13:54:19.327471",
     "exception": false,
     "start_time": "2023-01-31T13:54:19.131536",
     "status": "completed"
    },
    "tags": []
   },
   "outputs": [
    {
     "data": {
      "application/javascript": [
       "parent.postMessage({\"jupyterEvent\": \"custom.exercise_interaction\", \"data\": {\"outcomeType\": 1, \"valueTowardsCompletion\": 0.3333333333333333, \"interactionType\": 1, \"questionType\": 2, \"questionId\": \"5_ColorScatter\", \"learnToolsVersion\": \"0.3.4\", \"failureMessage\": \"\", \"exceptionClass\": \"\", \"trace\": \"\"}}, \"*\")"
      ],
      "text/plain": [
       "<IPython.core.display.Javascript object>"
      ]
     },
     "metadata": {},
     "output_type": "display_data"
    },
    {
     "data": {
      "text/markdown": [
       "<span style=\"color:#33cc33\">Correct</span>"
      ],
      "text/plain": [
       "Correct"
      ]
     },
     "metadata": {},
     "output_type": "display_data"
    },
    {
     "data": {
      "image/png": "[encoded data removed]",
      "text/plain": [
       "<Figure size 432x288 with 1 Axes>"
      ]
     },
     "metadata": {
      "needs_background": "light"
     },
     "output_type": "display_data"
    }
   ],
   "source": [
    "# Scatter plot showing the relationship between 'pricepercent', 'winpercent', and 'chocolate'\n",
    "sns.scatterplot(x=candy_data['pricepercent'], y=candy_data['winpercent'], hue=candy_data['chocolate']) # Your code here\n",
    "\n",
    "# Check your answer\n",
    "step_5.check()"
   ]
  },
  {
   "cell_type": "code",
   "execution_count": 17,
   "id": "30e72d92",
   "metadata": {
    "execution": {
     "iopub.execute_input": "2023-01-31T13:54:19.350466Z",
     "iopub.status.busy": "2023-01-31T13:54:19.349496Z",
     "iopub.status.idle": "2023-01-31T13:54:19.353842Z",
     "shell.execute_reply": "2023-01-31T13:54:19.353077Z"
    },
    "papermill": {
     "duration": 0.017507,
     "end_time": "2023-01-31T13:54:19.355524",
     "exception": false,
     "start_time": "2023-01-31T13:54:19.338017",
     "status": "completed"
    },
    "tags": []
   },
   "outputs": [],
   "source": [
    "# Lines below will give you a hint or solution code\n",
    "#step_5.hint()\n",
    "#step_5.solution_plot()"
   ]
  },
  {
   "cell_type": "markdown",
   "id": "3860cb66",
   "metadata": {
    "papermill": {
     "duration": 0.010403,
     "end_time": "2023-01-31T13:54:19.376654",
     "exception": false,
     "start_time": "2023-01-31T13:54:19.366251",
     "status": "completed"
    },
    "tags": []
   },
   "source": [
    "Can you see any interesting patterns in the scatter plot?  We'll investigate this plot further  by adding regression lines in the next step!\n",
    "\n",
    "## Step 6: Investigate chocolate\n",
    "\n",
    "#### Part A\n",
    "\n",
    "Create the same scatter plot you created in **Step 5**, but now with two regression lines, corresponding to (1) chocolate candies and (2) candies without chocolate."
   ]
  },
  {
   "cell_type": "code",
   "execution_count": 18,
   "id": "857cf76a",
   "metadata": {
    "execution": {
     "iopub.execute_input": "2023-01-31T13:54:19.399477Z",
     "iopub.status.busy": "2023-01-31T13:54:19.398899Z",
     "iopub.status.idle": "2023-01-31T13:54:19.868730Z",
     "shell.execute_reply": "2023-01-31T13:54:19.867446Z"
    },
    "papermill": {
     "duration": 0.483872,
     "end_time": "2023-01-31T13:54:19.871059",
     "exception": false,
     "start_time": "2023-01-31T13:54:19.387187",
     "status": "completed"
    },
    "tags": []
   },
   "outputs": [
    {
     "data": {
      "application/javascript": [
       "parent.postMessage({\"jupyterEvent\": \"custom.exercise_interaction\", \"data\": {\"outcomeType\": 1, \"valueTowardsCompletion\": 0.3333333333333333, \"interactionType\": 1, \"questionType\": 2, \"questionId\": \"6.1_PlotColorReg\", \"learnToolsVersion\": \"0.3.4\", \"failureMessage\": \"\", \"exceptionClass\": \"\", \"trace\": \"\"}}, \"*\")"
      ],
      "text/plain": [
       "<IPython.core.display.Javascript object>"
      ]
     },
     "metadata": {},
     "output_type": "display_data"
    },
    {
     "data": {
      "text/markdown": [
       "<span style=\"color:#33cc33\">Correct</span>"
      ],
      "text/plain": [
       "Correct"
      ]
     },
     "metadata": {},
     "output_type": "display_data"
    },
    {
     "data": {
      "image/png": "[encoded data removed]",
      "text/plain": [
       "<Figure size 416.375x360 with 1 Axes>"
      ]
     },
     "metadata": {
      "needs_background": "light"
     },
     "output_type": "display_data"
    }
   ],
   "source": [
    "# Color-coded scatter plot w/ regression lines\n",
    "sns.lmplot(x=\"pricepercent\",y=\"winpercent\",hue=\"chocolate\",data=candy_data) # Your code here\n",
    "\n",
    "# Check your answer\n",
    "step_6.a.check()"
   ]
  },
  {
   "cell_type": "code",
   "execution_count": 19,
   "id": "e039c199",
   "metadata": {
    "execution": {
     "iopub.execute_input": "2023-01-31T13:54:19.894311Z",
     "iopub.status.busy": "2023-01-31T13:54:19.893941Z",
     "iopub.status.idle": "2023-01-31T13:54:19.897811Z",
     "shell.execute_reply": "2023-01-31T13:54:19.896990Z"
    },
    "papermill": {
     "duration": 0.017554,
     "end_time": "2023-01-31T13:54:19.899729",
     "exception": false,
     "start_time": "2023-01-31T13:54:19.882175",
     "status": "completed"
    },
    "tags": []
   },
   "outputs": [],
   "source": [
    "# Lines below will give you a hint or solution code\n",
    "#step_6.a.hint()\n",
    "#step_6.a.solution_plot()"
   ]
  },
  {
   "cell_type": "markdown",
   "id": "ac8c1f65",
   "metadata": {
    "papermill": {
     "duration": 0.010957,
     "end_time": "2023-01-31T13:54:19.922949",
     "exception": false,
     "start_time": "2023-01-31T13:54:19.911992",
     "status": "completed"
    },
    "tags": []
   },
   "source": [
    "#### Part B\n",
    "\n",
    "Using the regression lines, what conclusions can you draw about the effects of chocolate and price on candy popularity?"
   ]
  },
  {
   "cell_type": "code",
   "execution_count": 20,
   "id": "5504621b",
   "metadata": {
    "execution": {
     "iopub.execute_input": "2023-01-31T13:54:19.946825Z",
     "iopub.status.busy": "2023-01-31T13:54:19.946457Z",
     "iopub.status.idle": "2023-01-31T13:54:19.950646Z",
     "shell.execute_reply": "2023-01-31T13:54:19.949452Z"
    },
    "papermill": {
     "duration": 0.018499,
     "end_time": "2023-01-31T13:54:19.952471",
     "exception": false,
     "start_time": "2023-01-31T13:54:19.933972",
     "status": "completed"
    },
    "tags": []
   },
   "outputs": [],
   "source": [
    "#step_6.b.hint()"
   ]
  },
  {
   "cell_type": "code",
   "execution_count": 21,
   "id": "4c90df8c",
   "metadata": {
    "execution": {
     "iopub.execute_input": "2023-01-31T13:54:19.976328Z",
     "iopub.status.busy": "2023-01-31T13:54:19.975913Z",
     "iopub.status.idle": "2023-01-31T13:54:19.983485Z",
     "shell.execute_reply": "2023-01-31T13:54:19.982394Z"
    },
    "papermill": {
     "duration": 0.021703,
     "end_time": "2023-01-31T13:54:19.985282",
     "exception": false,
     "start_time": "2023-01-31T13:54:19.963579",
     "status": "completed"
    },
    "tags": []
   },
   "outputs": [
    {
     "data": {
      "application/javascript": [
       "parent.postMessage({\"jupyterEvent\": \"custom.exercise_interaction\", \"data\": {\"interactionType\": 3, \"questionType\": 4, \"questionId\": \"6.2_ThinkColorReg\", \"learnToolsVersion\": \"0.3.4\", \"valueTowardsCompletion\": 0.0, \"failureMessage\": \"\", \"exceptionClass\": \"\", \"trace\": \"\", \"outcomeType\": 4}}, \"*\")"
      ],
      "text/plain": [
       "<IPython.core.display.Javascript object>"
      ]
     },
     "metadata": {},
     "output_type": "display_data"
    },
    {
     "data": {
      "text/markdown": [
       "<span style=\"color:#33cc99\">Solution:</span> We'll begin with the regression line for chocolate candies. Since this line has a slightly positive slope, we can say that more expensive chocolate candies tend to be more popular (than relatively cheaper chocolate candies).  Likewise, since the regression line for candies without chocolate has a negative slope, we can say that if candies don't contain chocolate, they tend to be more popular when they are cheaper.  One important note, however, is that the dataset is quite small -- so we shouldn't invest too much trust in these patterns!  To inspire more confidence in the results, we should add more candies to the dataset."
      ],
      "text/plain": [
       "Solution: We'll begin with the regression line for chocolate candies. Since this line has a slightly positive slope, we can say that more expensive chocolate candies tend to be more popular (than relatively cheaper chocolate candies).  Likewise, since the regression line for candies without chocolate has a negative slope, we can say that if candies don't contain chocolate, they tend to be more popular when they are cheaper.  One important note, however, is that the dataset is quite small -- so we shouldn't invest too much trust in these patterns!  To inspire more confidence in the results, we should add more candies to the dataset."
      ]
     },
     "metadata": {},
     "output_type": "display_data"
    }
   ],
   "source": [
    "# Check your answer (Run this code cell to receive credit!)\n",
    "step_6.b.solution()"
   ]
  },
  {
   "cell_type": "markdown",
   "id": "c2fa4b80",
   "metadata": {
    "papermill": {
     "duration": 0.011362,
     "end_time": "2023-01-31T13:54:20.008325",
     "exception": false,
     "start_time": "2023-01-31T13:54:19.996963",
     "status": "completed"
    },
    "tags": []
   },
   "source": [
    "## Step 7: Everybody loves chocolate.\n",
    "\n",
    "#### Part A\n",
    "\n",
    "Create a categorical scatter plot to highlight the relationship between `'chocolate'` and `'winpercent'`.  Put `'chocolate'` on the (horizontal) x-axis, and `'winpercent'` on the (vertical) y-axis."
   ]
  },
  {
   "cell_type": "code",
   "execution_count": 22,
   "id": "9efa43a1",
   "metadata": {
    "execution": {
     "iopub.execute_input": "2023-01-31T13:54:20.034080Z",
     "iopub.status.busy": "2023-01-31T13:54:20.033700Z",
     "iopub.status.idle": "2023-01-31T13:54:20.159444Z",
     "shell.execute_reply": "2023-01-31T13:54:20.158719Z"
    },
    "papermill": {
     "duration": 0.141613,
     "end_time": "2023-01-31T13:54:20.161468",
     "exception": false,
     "start_time": "2023-01-31T13:54:20.019855",
     "status": "completed"
    },
    "tags": []
   },
   "outputs": [
    {
     "data": {
      "application/javascript": [
       "parent.postMessage({\"jupyterEvent\": \"custom.exercise_interaction\", \"data\": {\"outcomeType\": 1, \"valueTowardsCompletion\": 0.3333333333333333, \"interactionType\": 1, \"questionType\": 2, \"questionId\": \"7.1_PlotSwarm\", \"learnToolsVersion\": \"0.3.4\", \"failureMessage\": \"\", \"exceptionClass\": \"\", \"trace\": \"\"}}, \"*\")"
      ],
      "text/plain": [
       "<IPython.core.display.Javascript object>"
      ]
     },
     "metadata": {},
     "output_type": "display_data"
    },
    {
     "data": {
      "text/markdown": [
       "<span style=\"color:#33cc33\">Correct</span>"
      ],
      "text/plain": [
       "Correct"
      ]
     },
     "metadata": {},
     "output_type": "display_data"
    },
    {
     "data": {
      "image/png": "[encoded data removed]",
      "text/plain": [
       "<Figure size 432x288 with 1 Axes>"
      ]
     },
     "metadata": {
      "needs_background": "light"
     },
     "output_type": "display_data"
    }
   ],
   "source": [
    "# Scatter plot showing the relationship between 'chocolate' and 'winpercent'\n",
    "sns.swarmplot(x=candy_data['chocolate'],y=candy_data['winpercent']) # Your code here\n",
    "\n",
    "# Check your answer\n",
    "step_7.a.check()"
   ]
  },
  {
   "cell_type": "code",
   "execution_count": 23,
   "id": "89c8e289",
   "metadata": {
    "execution": {
     "iopub.execute_input": "2023-01-31T13:54:20.195130Z",
     "iopub.status.busy": "2023-01-31T13:54:20.194302Z",
     "iopub.status.idle": "2023-01-31T13:54:20.199172Z",
     "shell.execute_reply": "2023-01-31T13:54:20.198096Z"
    },
    "papermill": {
     "duration": 0.024258,
     "end_time": "2023-01-31T13:54:20.201510",
     "exception": false,
     "start_time": "2023-01-31T13:54:20.177252",
     "status": "completed"
    },
    "tags": []
   },
   "outputs": [],
   "source": [
    "# Lines below will give you a hint or solution code\n",
    "#step_7.a.hint()\n",
    "#step_7.a.solution_plot()"
   ]
  },
  {
   "cell_type": "markdown",
   "id": "6d5f142f",
   "metadata": {
    "papermill": {
     "duration": 0.011535,
     "end_time": "2023-01-31T13:54:20.225048",
     "exception": false,
     "start_time": "2023-01-31T13:54:20.213513",
     "status": "completed"
    },
    "tags": []
   },
   "source": [
    "#### Part B\n",
    "\n",
    "You decide to dedicate a section of your report to the fact that chocolate candies tend to be more popular than candies without chocolate.  Which plot is more appropriate to tell this story: the plot from **Step 6**, or the plot from **Step 7**?"
   ]
  },
  {
   "cell_type": "markdown",
   "id": "72d860da",
   "metadata": {
    "papermill": {
     "duration": 0.011936,
     "end_time": "2023-01-31T13:54:20.249076",
     "exception": false,
     "start_time": "2023-01-31T13:54:20.237140",
     "status": "completed"
    },
    "tags": []
   },
   "source": [
    "\"Step 7\""
   ]
  },
  {
   "cell_type": "code",
   "execution_count": 24,
   "id": "7bbd4033",
   "metadata": {
    "execution": {
     "iopub.execute_input": "2023-01-31T13:54:20.275028Z",
     "iopub.status.busy": "2023-01-31T13:54:20.274519Z",
     "iopub.status.idle": "2023-01-31T13:54:20.277546Z",
     "shell.execute_reply": "2023-01-31T13:54:20.276950Z"
    },
    "papermill": {
     "duration": 0.018775,
     "end_time": "2023-01-31T13:54:20.279957",
     "exception": false,
     "start_time": "2023-01-31T13:54:20.261182",
     "status": "completed"
    },
    "tags": []
   },
   "outputs": [],
   "source": [
    "#step_7.b.hint()"
   ]
  },
  {
   "cell_type": "code",
   "execution_count": 25,
   "id": "a0193bc1",
   "metadata": {
    "execution": {
     "iopub.execute_input": "2023-01-31T13:54:20.307148Z",
     "iopub.status.busy": "2023-01-31T13:54:20.306458Z",
     "iopub.status.idle": "2023-01-31T13:54:20.313111Z",
     "shell.execute_reply": "2023-01-31T13:54:20.312230Z"
    },
    "papermill": {
     "duration": 0.022647,
     "end_time": "2023-01-31T13:54:20.314989",
     "exception": false,
     "start_time": "2023-01-31T13:54:20.292342",
     "status": "completed"
    },
    "tags": []
   },
   "outputs": [
    {
     "data": {
      "application/javascript": [
       "parent.postMessage({\"jupyterEvent\": \"custom.exercise_interaction\", \"data\": {\"interactionType\": 3, \"questionType\": 4, \"questionId\": \"7.2_ThinkSwarm\", \"learnToolsVersion\": \"0.3.4\", \"valueTowardsCompletion\": 0.0, \"failureMessage\": \"\", \"exceptionClass\": \"\", \"trace\": \"\", \"outcomeType\": 4}}, \"*\")"
      ],
      "text/plain": [
       "<IPython.core.display.Javascript object>"
      ]
     },
     "metadata": {},
     "output_type": "display_data"
    },
    {
     "data": {
      "text/markdown": [
       "<span style=\"color:#33cc99\">Solution:</span> In this case, the categorical scatter plot from **Step 7** is the more appropriate plot. While both plots tell the desired story, the plot from **Step 6** conveys far more information that could distract from the main point."
      ],
      "text/plain": [
       "Solution: In this case, the categorical scatter plot from **Step 7** is the more appropriate plot. While both plots tell the desired story, the plot from **Step 6** conveys far more information that could distract from the main point."
      ]
     },
     "metadata": {},
     "output_type": "display_data"
    }
   ],
   "source": [
    "# Check your answer (Run this code cell to receive credit!)\n",
    "step_7.b.solution()"
   ]
  },
  {
   "cell_type": "markdown",
   "id": "3efe329b",
   "metadata": {
    "papermill": {
     "duration": 0.012313,
     "end_time": "2023-01-31T13:54:20.340095",
     "exception": false,
     "start_time": "2023-01-31T13:54:20.327782",
     "status": "completed"
    },
    "tags": []
   },
   "source": [
    "## Keep going\n",
    "\n",
    "Explore **[histograms and density plots](https://www.kaggle.com/alexisbcook/distributions)**."
   ]
  },
  {
   "cell_type": "markdown",
   "id": "4d101ea1",
   "metadata": {
    "papermill": {
     "duration": 0.012788,
     "end_time": "2023-01-31T13:54:20.368032",
     "exception": false,
     "start_time": "2023-01-31T13:54:20.355244",
     "status": "completed"
    },
    "tags": []
   },
   "source": [
    "---\n",
    "\n",
    "\n",
    "\n",
    "\n",
    "*Have questions or comments? Visit the [course discussion forum](https://www.kaggle.com/learn/data-visualization/discussion) to chat with other learners.*"
   ]
  }
 ],
 "metadata": {
  "kernelspec": {
   "display_name": "Python 3",
   "language": "python",
   "name": "python3"
  },
  "language_info": {
   "codemirror_mode": {
    "name": "ipython",
    "version": 3
   },
   "file_extension": ".py",
   "mimetype": "text/x-python",
   "name": "python",
   "nbconvert_exporter": "python",
   "pygments_lexer": "ipython3",
   "version": "3.7.12"
  },
  "papermill": {
   "default_parameters": {},
   "duration": 11.030895,
   "end_time": "2023-01-31T13:54:21.107568",
   "environment_variables": {},
   "exception": null,
   "input_path": "__notebook__.ipynb",
   "output_path": "__notebook__.ipynb",
   "parameters": {},
   "start_time": "2023-01-31T13:54:10.076673",
   "version": "2.3.4"
  }
 },
 "nbformat": 4,
 "nbformat_minor": 5
}
